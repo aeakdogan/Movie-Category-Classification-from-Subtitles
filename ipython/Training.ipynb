{
 "cells": [
  {
   "cell_type": "code",
   "execution_count": 92,
   "metadata": {
    "collapsed": false
   },
   "outputs": [
    {
     "name": "stdout",
     "output_type": "stream",
     "text": [
      "[ali] veli 49 [yasinda ise], come [asd]\n"
     ]
    }
   ],
   "source": [
    "import re\n",
    "line = '[ali] veli 49 [yasinda ise], come [asd] go'\n",
    "res = re.findall(r'(\\[.+\\]|\\(.+\\))', line) # fix the monsters inc case.\n",
    "if res:\n",
    "    res = re.sub(r'<.*?>', '', res[0])\n",
    "print(res)"
   ]
  }
 ],
 "metadata": {
  "anaconda-cloud": {},
  "kernelspec": {
   "display_name": "Python [default]",
   "language": "python",
   "name": "python3"
  },
  "language_info": {
   "codemirror_mode": {
    "name": "ipython",
    "version": 3
   },
   "file_extension": ".py",
   "mimetype": "text/x-python",
   "name": "python",
   "nbconvert_exporter": "python",
   "pygments_lexer": "ipython3",
   "version": "3.5.2"
  }
 },
 "nbformat": 4,
 "nbformat_minor": 1
}
